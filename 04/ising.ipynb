{
 "cells": [
  {
   "cell_type": "markdown",
   "metadata": {},
   "source": [
    "# Ising model using python"
   ]
  },
  {
   "cell_type": "markdown",
   "metadata": {},
   "source": [
    "Pseudo code\n",
    "```python\n",
    "for every point in the grid:\n",
    "    energy = my spin * sum of all of the spins (+1 or -1) of neighboring points\n",
    "    if energy is improved by switching:\n",
    "        switch\n",
    "    else if we're particulalry unlucky\n",
    "        switch anyway\n",
    "```"
   ]
  },
  {
   "cell_type": "code",
   "execution_count": 1,
   "metadata": {},
   "outputs": [],
   "source": [
    "import numpy as np\n",
    "import matplotlib.pyplot as plt\n",
    "%matplotlib inline"
   ]
  },
  {
   "cell_type": "code",
   "execution_count": 2,
   "metadata": {},
   "outputs": [],
   "source": [
    "def periodicalize(lattice):\n",
    "    n, m = lattice.shape\n",
    "    n -= 1\n",
    "    m -= 1\n",
    "    \n",
    "    lattice[:, 0] = lattice[:, m - 1]\n",
    "    lattice[:, m] = lattice[:, 1]\n",
    "    lattice[0, :] = lattice[n - 1, :]\n",
    "    lattice[n, :] = lattice[1, :]\n",
    "    \n",
    "    return lattice"
   ]
  },
  {
   "cell_type": "code",
   "execution_count": 3,
   "metadata": {},
   "outputs": [],
   "source": [
    "# Initialize Random Lattice\n",
    "def init(n, m=None, random=True):\n",
    "    if m is None:\n",
    "        m = n\n",
    "    if random:\n",
    "        field = np.random.choice([-1, 1], size=[n, m])  # Random Spins\n",
    "    else:\n",
    "        field = np.ones([n, m])\n",
    "    \n",
    "    # add bounds\n",
    "    lattice = np.zeros([n + 2, m + 2])\n",
    "    lattice[1:n + 1, 1:m + 1] = field\n",
    "    \n",
    "    return periodicalize(lattice)"
   ]
  },
  {
   "cell_type": "code",
   "execution_count": 4,
   "metadata": {},
   "outputs": [],
   "source": [
    "# Implement Ising Model Steps\n",
    "def step(old_field, J=1, kbT=1):\n",
    "    n, m = f.shape\n",
    "    new_field = old_field.copy()\n",
    "    beta = 1 / kbT\n",
    "    \n",
    "    for i in range(1, n-1):\n",
    "        for j in range(1, m-1):\n",
    "            Hamiltonian_old = - J * old_field[i, j] * (  # eigener Spin\n",
    "                old_field[i-1, j] +  # alle naechsten Nachbarn\n",
    "                old_field[i+1, j] +\n",
    "                old_field[i, j-1] +\n",
    "                old_field[i, j+1]\n",
    "            )\n",
    "\n",
    "            Hamiltonian_new = - Hamiltonian_old  # Energie falls geflippt wuerde\n",
    "            deltaE = Hamiltonian_new - Hamiltonian_old\n",
    "            \n",
    "            # Flip spin if energy is minimized after flip\n",
    "            if deltaE < 0:\n",
    "                new_field[i, j] *= -1\n",
    "            # Dont do anything if energy is same\n",
    "            elif deltaE == 0:\n",
    "                pass\n",
    "            # Random spin flip if unlucky\n",
    "            elif np.exp(- beta * deltaE) > np.random.rand():\n",
    "                new_field[i, j] *= -1\n",
    "                \n",
    "                \n",
    "    return periodicalize(new_field)"
   ]
  },
  {
   "cell_type": "code",
   "execution_count": 108,
   "metadata": {},
   "outputs": [],
   "source": [
    "def middle_energy_magnetic(lattice, J=1):\n",
    "    n, m = lattice.shape\n",
    "    \n",
    "    Hamiltonian = 0\n",
    "    magnetic = 0\n",
    "    N = ((m - 2) * (n - 2))\n",
    "    for i in range(1, n-1):\n",
    "        for j in range(1, m-1):\n",
    "            Hamiltonian += - J * lattice[i, j] * (  # eigener Spin\n",
    "                lattice[i-1, j] +  # alle naechsten Nachbarn\n",
    "                lattice[i+1, j] +\n",
    "                lattice[i, j-1] +\n",
    "                lattice[i, j+1]\n",
    "            )\n",
    "            magnetic += lattice[i, j]\n",
    "    return Hamiltonian / (4 * J) / N, magnetic/N, np.abs(magnetic)/N"
   ]
  },
  {
   "cell_type": "code",
   "execution_count": 131,
   "metadata": {},
   "outputs": [],
   "source": [
    "# Define Start Values\n",
    "steps = 100 #+ 10000\n",
    "n = 100\n",
    "J = 1\n",
    "kbT = 2.27 * J\n",
    "f = init(n, random=True)\n",
    "\n",
    "images = [f]\n",
    "\n",
    "energies = []\n",
    "mags = []\n",
    "abs_mags = []\n",
    "\n",
    "# Run Model, Save Every Step\n",
    "for i in range(steps):\n",
    "    images.append(step(images[-1].copy(), J=J, kbT=kbT))\n",
    "    e, m, absm = middle_energy_magnetic(images[-1], J)\n",
    "    energies.append(e)\n",
    "    mags.append(m)\n",
    "    abs_mags.append(absm)"
   ]
  },
  {
   "cell_type": "code",
   "execution_count": 132,
   "metadata": {},
   "outputs": [
    {
     "data": {
      "image/png": "[encoded data removed]",
      "text/plain": [
       "<Figure size 432x288 with 1 Axes>"
      ]
     },
     "metadata": {},
     "output_type": "display_data"
    }
   ],
   "source": [
    "def plot_energies(energies, mags, abs_mags, kbT, n):\n",
    "    fig, ax = plt.subplots()\n",
    "    ax.plot(range(len(energies)), energies, 'C1-', label='Energy')\n",
    "    ax.plot(range(len(mags)), mags, 'C3--', label='Magnetic Field')\n",
    "    ax.plot(range(len(abs_mags)), abs_mags, 'C2:', label='Absolute Magnetic Field')\n",
    "    ax.set_xlabel('Sweeps')\n",
    "    ax.set_ylabel('e(t)')\n",
    "    # ax.set_ylim([-1.1, 0])\n",
    "    ax.legend()\n",
    "    fig.tight_layout(pad=0)\n",
    "    return fig\n",
    "\n",
    "energyfig = plot_energies(energies, mags, abs_mags, kbT, n)\n",
    "energyfig;"
   ]
  },
  {
   "cell_type": "code",
   "execution_count": 133,
   "metadata": {},
   "outputs": [
    {
     "data": {
      "image/png": "[encoded data removed]",
      "text/plain": [
       "<Figure size 720x288 with 3 Axes>"
      ]
     },
     "metadata": {},
     "output_type": "display_data"
    }
   ],
   "source": [
    "# Display Lattice After MC\n",
    "first = images[0]\n",
    "final = images[-1]\n",
    "\n",
    "fig = plt.figure()\n",
    "fig.set_size_inches([10, 4])\n",
    "ax_first = fig.add_subplot(121)\n",
    "ax_final = fig.add_subplot(122)\n",
    "\n",
    "cmap = plt.get_cmap('binary', 2)\n",
    "\n",
    "im_first = ax_first.imshow(first[1:n+1, 1:n+1], cmap=cmap)\n",
    "im_final = ax_final.imshow(final[1:n+1, 1:n+1], cmap=cmap)\n",
    "\n",
    "cbar = fig.colorbar(im_first)\n",
    "cbar.set_ticks([-1, 1])\n",
    "cbar.ax.set_ylabel(\"Spin\")\n",
    "\n",
    "ax_first.set_title(\"First\")\n",
    "ax_final.set_title(\"Final\")\n",
    "fig.tight_layout()\n",
    "fig;"
   ]
  },
  {
   "cell_type": "code",
   "execution_count": null,
   "metadata": {},
   "outputs": [],
   "source": []
  }
 ],
 "metadata": {
  "kernelspec": {
   "display_name": "Python 3",
   "language": "python",
   "name": "python3"
  },
  "language_info": {
   "codemirror_mode": {
    "name": "ipython",
    "version": 3
   },
   "file_extension": ".py",
   "mimetype": "text/x-python",
   "name": "python",
   "nbconvert_exporter": "python",
   "pygments_lexer": "ipython3",
   "version": "3.6.5"
  }
 },
 "nbformat": 4,
 "nbformat_minor": 2
}
